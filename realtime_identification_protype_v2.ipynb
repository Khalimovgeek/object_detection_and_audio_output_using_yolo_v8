{
 "cells": [
  {
   "cell_type": "code",
   "execution_count": 15,
   "id": "004f325d-e870-4f70-90cc-2328ecf0e6a4",
   "metadata": {},
   "outputs": [
    {
     "name": "stdout",
     "output_type": "stream",
     "text": [
      "WARNING ⚠️ Unable to automatically guess model task, assuming 'task=detect'. Explicitly define task for your model, i.e. 'task=detect', 'segment', 'classify','pose' or 'obb'.\n"
     ]
    }
   ],
   "source": [
    "from collections import defaultdict, Counter\n",
    "import cv2\n",
    "import numpy as np\n",
    "from ultralytics import YOLO\n",
    "import pyttsx3\n",
    "\n",
    "# Initialize YOLOv8 model\n",
    "model = YOLO('yolov8m_saved_model/yolov8m_float32.tflite')\n",
    "classNames = [\"person\", \"bicycle\", \"car\", \"motorbike\", \"aeroplane\", \"bus\", \"train\", \"truck\", \"boat\",\n",
    "                  \"traffic light\", \"fire hydrant\", \"stop sign\", \"parking meter\", \"bench\", \"bird\", \"cat\",\n",
    "                  \"dog\", \"horse\", \"sheep\", \"cow\", \"elephant\", \"bear\", \"zebra\", \"giraffe\", \"backpack\", \"umbrella\",\n",
    "                  \"handbag\", \"tie\", \"suitcase\", \"frisbee\", \"skis\", \"snowboard\", \"sports ball\", \"kite\", \"baseball bat\",\n",
    "                  \"baseball glove\", \"skateboard\", \"surfboard\", \"tennis racket\", \"bottle\", \"wine glass\", \"cup\",\n",
    "                  \"fork\", \"knife\", \"spoon\", \"bowl\", \"banana\", \"apple\", \"sandwich\", \"orange\", \"broccoli\",\n",
    "                  \"carrot\", \"hot dog\", \"pizza\", \"donut\", \"cake\", \"chair\", \"sofa\", \"pottedplant\", \"bed\",\n",
    "                  \"diningtable\", \"toilet\", \"tvmonitor\", \"laptop\", \"mouse\", \"remote\", \"keyboard\", \"cell phone\",\n",
    "                  \"microwave\", \"oven\", \"toaster\", \"sink\", \"refrigerator\", \"book\", \"clock\", \"vase\", \"scissors\",\n",
    "                  \"teddy bear\", \"hair drier\", \"toothbrush\"\n",
    "                  ]\n"
   ]
  },
  {
   "cell_type": "code",
   "execution_count": 2,
   "id": "90b23a32-b426-46de-bb1c-115b3906eeda",
   "metadata": {},
   "outputs": [],
   "source": [
    "def audio(path):\n",
    "    \n",
    "    language = 'en'\n",
    "    results = model(path)\n",
    "    x = \"There \"  # Initialize x\n",
    "    for result in results:\n",
    "        boxes =result.boxes.cls\n",
    "        boxes_int = [int(x) for x in boxes]\n",
    "        counter = Counter(boxes_int)\n",
    "\n",
    "        print(counter)  # Check what boxes contains\n",
    "        for i, (box, count) in enumerate(counter.items()):\n",
    "            if i != len(counter) - 1 and i != 0:\n",
    "                if count == 1:\n",
    "                    x += f\"a {classNames[int(box)]} , \"\n",
    "                else:\n",
    "                    x += f\"{count} {classNames[int(box)]}s , \"\n",
    "            elif i == 0:\n",
    "                if count == 1:\n",
    "                    x += f\"is a {classNames[int(box)]} , \"\n",
    "                else:\n",
    "                    x += f\"are {count} {classNames[int(box)]}s , \"\n",
    "            else:\n",
    "                if count == 1:\n",
    "                    x += f\"and a {classNames[int(box)]} \"\n",
    "                else:\n",
    "                    x += f\"and {count} {classNames[int(box)]}s \"\n",
    "    \n",
    "    x+= \"in front of you.\"\n",
    "    print(x)\n",
    "    pyttsx3.speak(x)"
   ]
  },
  {
   "cell_type": "code",
   "execution_count": 3,
   "id": "67027dfc-2b13-49f7-9266-92664f9be616",
   "metadata": {},
   "outputs": [],
   "source": [
    "def detect_objects_and_speak(frame):\n",
    "    # Convert frame to grayscale\n",
    "    frame_gray = cv2.cvtColor(frame, cv2.COLOR_BGR2GRAY)\n",
    "\n",
    "    # Run YOLOv8 tracking\n",
    "    results = model.track(frame, persist=True)\n",
    "    boxes = results[0].boxes.xywh.cpu()\n",
    "    #probs = results.probs.cpu()\n",
    "    \n",
    "    if len(boxes) == 0:\n",
    "        print(\"No moving objects detected.\")\n",
    "    else:\n",
    "        objects_with_direction = []  # List to store objects along with their direction\n",
    "        objects=[]\n",
    "        for j,box in enumerate(boxes):\n",
    "            # Extract box coordinates\n",
    "            x, y, w, h = box\n",
    "            # Calculate box center\n",
    "            center_x =[]\n",
    "            center_x.append(x)\n",
    "            for xx in center_x:\n",
    "            \n",
    "                print(xx)\n",
    "                # Determine direction based on box center\n",
    "                if xx <= 400:\n",
    "                    direction = \"left\"\n",
    "                elif xx >= 900:\n",
    "                    direction = \"right\"\n",
    "                else:\n",
    "                    direction = \"middle\"\n",
    "                print(direction)\n",
    "                object_name = classNames[int(results[0].boxes.cls[j])]\n",
    "                print(object_name)\n",
    "                objects_with_direction.append(f\" {direction}\")\n",
    "                objects.append(f\" {object_name}\")\n",
    "        text_to_speak = \", \".join(objects_with_direction) \n",
    "        text_to_speak += \",\".join(objects)\n",
    "        pyttsx3.speak(text_to_speak)\n",
    "\n",
    "      "
   ]
  },
  {
   "cell_type": "code",
   "execution_count": 24,
   "id": "445b8ed0-87b3-45fc-88bd-7aceb5004e6c",
   "metadata": {},
   "outputs": [
    {
     "name": "stdout",
     "output_type": "stream",
     "text": [
      "\n",
      "0: 640x640 1 person, 956.9ms\n",
      "Speed: 4.0ms preprocess, 956.9ms inference, 2.0ms postprocess per image at shape (1, 3, 640, 640)\n",
      "tensor([1057.69922,  687.37976, 1017.09930,  742.88696])\n",
      "Distance: 0.43 meters\n",
      "\n",
      "0: 640x640 1 person, 969.8ms\n",
      "Speed: 7.0ms preprocess, 969.8ms inference, 1.0ms postprocess per image at shape (1, 3, 640, 640)\n",
      "tensor([1275.81384,  679.25800,  956.18604,  715.41833])\n",
      "Distance: 0.45 meters\n"
     ]
    }
   ],
   "source": [
    "# Main function to capture frames and handle events\n",
    "def detect():\n",
    "    # Replace \"http://192.168.29.111:8080\" with the URL of your IP webcam stream\n",
    "    cap = cv2.VideoCapture(0)\n",
    "\n",
    "    # Set the resolution (optional)\n",
    "    cap.set(cv2.CAP_PROP_FRAME_WIDTH, 1920)\n",
    "    cap.set(cv2.CAP_PROP_FRAME_HEIGHT, 1080)\n",
    "    \n",
    "    # Check if the video stream opened successfully\n",
    "    if not cap.isOpened():\n",
    "        print(\"Error: Couldn't open video stream\")\n",
    "        return\n",
    "\n",
    "    # Main loop\n",
    "    while True:\n",
    "        # Capture frame-by-frame\n",
    "        ret, frame = cap.read()\n",
    "\n",
    "        # If frame is read correctly ret is True\n",
    "        if not ret:\n",
    "            print(\"Error: Couldn't read frame\")\n",
    "            break\n",
    "\n",
    "        # Display the resulting frame\n",
    "        cv2.imshow('Webcam', frame)\n",
    "\n",
    "        # Check for key events\n",
    "        key = cv2.waitKey(1)\n",
    "\n",
    "        # Perform actions based on key pressed\n",
    "        if key == ord('u'):\n",
    "            detect_objects_and_speak(frame)  # Call the function for object detection and speech synthesis\n",
    "        elif key == ord('r'):\n",
    "            cv2.imwrite(\"temp_img.jpg\", frame)  # Save a temporary image\n",
    "            audio(\"temp_img.jpg\")\n",
    "        if key==ord('c')\n",
    "            detect_distance(frame)# Call the audio function with the path to the temporary image\n",
    "        elif key == ord('q'):\n",
    "            break  # Break the loop if 'q' is pressed\n",
    "\n",
    "    # Release the video stream and close OpenCV windows\n",
    "    cap.release()\n",
    "    cv2.destroyAllWindows()\n",
    "\n",
    "# Call the detect function\n",
    "detect()\n"
   ]
  },
  {
   "cell_type": "code",
   "execution_count": 26,
   "id": "6295b749-cb2a-462d-b51b-25edeef4571f",
   "metadata": {},
   "outputs": [],
   "source": [
    "def detect_distance(frame):\n",
    "    # Convert frame to grayscale\n",
    "    frame_gray = cv2.cvtColor(frame, cv2.COLOR_BGR2GRAY)\n",
    "\n",
    "    # Run YOLOv8 tracking\n",
    "    results = model.track(frame, persist=True)\n",
    "    boxes = results[0].boxes.xywh.cpu()\n",
    "    #probs = results.probs.cpu()\n",
    "    \n",
    "    if len(boxes) == 0:\n",
    "        print(\"No moving objects detected.\")\n",
    "    else:\n",
    "        objects_with_direction = []  # List to store objects along with their direction\n",
    "        objects=[]\n",
    "        for j,box in enumerate(boxes):\n",
    "            # Extract box coordinates\n",
    "            x, y, w, h = box\n",
    "            # Calculate box center\n",
    "            print(box)\n",
    "            \n",
    "            focal_length = 1.479685039370079  # Focal length of the camera\n",
    "            object_height = 0.2  # Height of the object in meters\n",
    "            image_height = 1080  # Image height in pixels\n",
    "            object_pixel_height=h\n",
    "            distance = (focal_length * object_height * image_height) / (object_pixel_height )\n",
    "            print( f'Distance: {distance:.2f} meters')"
   ]
  },
  {
   "cell_type": "code",
   "execution_count": 25,
   "id": "02a601f6-298a-4f98-95de-c45028ad9955",
   "metadata": {},
   "outputs": [
    {
     "name": "stdout",
     "output_type": "stream",
     "text": [
      "100\n"
     ]
    }
   ],
   "source": []
  },
  {
   "cell_type": "code",
   "execution_count": null,
   "id": "bb762489-8b46-4832-85dd-afa95fcbff49",
   "metadata": {},
   "outputs": [],
   "source": []
  },
  {
   "cell_type": "code",
   "execution_count": null,
   "id": "fb15f703-cc4c-4af6-9975-1898a372a708",
   "metadata": {},
   "outputs": [],
   "source": []
  },
  {
   "cell_type": "code",
   "execution_count": null,
   "id": "d9d55052-d043-4dee-b8b5-9d03b7e56688",
   "metadata": {},
   "outputs": [],
   "source": []
  }
 ],
 "metadata": {
  "kernelspec": {
   "display_name": "Python 3 (ipykernel)",
   "language": "python",
   "name": "python3"
  },
  "language_info": {
   "codemirror_mode": {
    "name": "ipython",
    "version": 3
   },
   "file_extension": ".py",
   "mimetype": "text/x-python",
   "name": "python",
   "nbconvert_exporter": "python",
   "pygments_lexer": "ipython3",
   "version": "3.11.5"
  }
 },
 "nbformat": 4,
 "nbformat_minor": 5
}
